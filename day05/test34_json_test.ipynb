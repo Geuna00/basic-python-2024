{
 "cells": [
  {
   "cell_type": "markdown",
   "metadata": {},
   "source": [
    "## JSON Input/Output\n",
    "JSON 읽고 쓰기\n",
    "\n",
    "### JSON 포맷"
   ]
  },
  {
   "cell_type": "code",
   "execution_count": 1,
   "metadata": {},
   "outputs": [],
   "source": [
    "# file : test34_json_test.ipynb\n",
    "# desc : json 예제\n",
    "json_ex = '{\"name\" : \"김근아\", \"age\" : 25}'"
   ]
  },
  {
   "cell_type": "markdown",
   "metadata": {},
   "source": [
    "### JSON 읽기\n",
    "\n",
    "json 모듈 가져오기"
   ]
  },
  {
   "cell_type": "code",
   "execution_count": 3,
   "metadata": {},
   "outputs": [],
   "source": [
    "import json"
   ]
  },
  {
   "cell_type": "code",
   "execution_count": 9,
   "metadata": {},
   "outputs": [
    {
     "name": "stdout",
     "output_type": "stream",
     "text": [
      "{\n",
      "\t\"ionic\": {\n",
      "\t\t\"price\": 20000000,\n",
      "\t\t\"year\": \"2019\",\n",
      "\t\t\"auto\": true\n",
      "\t},\n",
      "\t\"genesis\": {\n",
      "\t\t\"price\": 80000000,\n",
      "\t\t\"year\": \"2022\",\n",
      "\t\t\"auto\": true\n",
      "\t},\n",
      "\t\"ferrari\": {\n",
      "\t\t\"price\": 1500000000,\n",
      "\t\t\"year\": \"2020\",\n",
      "\t\t\"auto\": false\n",
      "\t}\n",
      "}\n"
     ]
    }
   ],
   "source": [
    "# ./ 입력 -> 현재위치의 폴더를 보여줌 \n",
    "# ../ 입력 -> 현재폴더의 부모폴더를 보여줌\n",
    "file = open('./car.json', mode='r', encoding='utf-8') # 최초에는 파일IO 사용\n",
    "data = json.load(file) # json 파일로 변환\n",
    "file.close()\n",
    "\n",
    "# json.dumps(data) 문자열로 변경\n",
    "print(json.dumps(data, indent='\\t'))  # 원본처럼 출력\n",
    "# data / print(data)"
   ]
  }
 ],
 "metadata": {
  "kernelspec": {
   "display_name": "Python 3",
   "language": "python",
   "name": "python3"
  },
  "language_info": {
   "codemirror_mode": {
    "name": "ipython",
    "version": 3
   },
   "file_extension": ".py",
   "mimetype": "text/x-python",
   "name": "python",
   "nbconvert_exporter": "python",
   "pygments_lexer": "ipython3",
   "version": "3.11.5"
  }
 },
 "nbformat": 4,
 "nbformat_minor": 2
}
