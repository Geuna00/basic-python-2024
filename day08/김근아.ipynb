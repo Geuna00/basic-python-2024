{
 "cells": [
  {
   "cell_type": "markdown",
   "metadata": {},
   "source": [
    "## 1번 문제"
   ]
  },
  {
   "cell_type": "code",
   "execution_count": 10,
   "metadata": {},
   "outputs": [
    {
     "name": "stdout",
     "output_type": "stream",
     "text": [
      "원의 넓이 : 10 x 10 x 3.141592 = 314.1592\n"
     ]
    }
   ],
   "source": [
    "# 1번 문제\n",
    "PI = 3.141592\n",
    "radin = int(input('원의 반지름 값을 입력하세요 > '))\n",
    "result = PI * (radin ** 2)\n",
    "print(f'원의 넓이 : {radin} x {radin} x {PI} = {result}')"
   ]
  },
  {
   "cell_type": "markdown",
   "metadata": {},
   "source": [
    "## 2번 문제"
   ]
  },
  {
   "cell_type": "code",
   "execution_count": 5,
   "metadata": {},
   "outputs": [
    {
     "name": "stdout",
     "output_type": "stream",
     "text": [
      "Mercury은 수성 입니다.\n"
     ]
    }
   ],
   "source": [
    "# 2번 문제\n",
    "solar_system = {'Mercury':'수성', 'Venus':'금성', 'Earth':'지구', \n",
    "                'Mars':'화성', 'Jupiter':'목성', 'Saturn':'토성', \n",
    "                'Uranus':'천왕성', 'Neptune':'해왕성'}\n",
    "name = input('행성의 영어이름을 입력하세요(대문자로 시작) > ')\n",
    "if name in solar_system:\n",
    "    print(f'{name}은 {solar_system[name]} 입니다.')\n",
    "else:\n",
    "    print('잘못된 입력입니다.')\n",
    "    "
   ]
  },
  {
   "cell_type": "markdown",
   "metadata": {},
   "source": [
    "## 3번 문제"
   ]
  },
  {
   "cell_type": "code",
   "execution_count": 6,
   "metadata": {},
   "outputs": [
    {
     "name": "stdout",
     "output_type": "stream",
     "text": [
      "단어의 수 : 7\n",
      "짝수번째 대문자 출력 > i'm GOING to LEAVE the DOOR open\n"
     ]
    }
   ],
   "source": [
    "# 3번 문제\n",
    "eng_str = input('영어 문자열을 입력하세요 > ')\n",
    "words = eng_str.split()\n",
    "words_count = len(words)\n",
    "print(f'단어의 수 : {words_count}')\n",
    "\n",
    "list = []\n",
    "for i in range(words_count):\n",
    "    if i % 2 == 0: \n",
    "        list.append(words[i])\n",
    "    else:\n",
    "        list.append(words[i].upper())\n",
    "\n",
    "change_str = ' '.join(list)\n",
    "\n",
    "print(f'짝수번째 대문자 출력 > {change_str}')"
   ]
  },
  {
   "cell_type": "markdown",
   "metadata": {},
   "source": [
    "## 4번 문제"
   ]
  },
  {
   "cell_type": "code",
   "execution_count": 13,
   "metadata": {},
   "outputs": [
    {
     "name": "stdout",
     "output_type": "stream",
     "text": [
      "www.google.com\n"
     ]
    }
   ],
   "source": [
    "# # 4번 문제\n",
    "# from urllib.request import *\n",
    "\n",
    "# def get_url():\n",
    "#     pass # ?\n",
    "\n",
    "# name = input('영문이름을 입력하세요 > ')\n",
    "# url = get_url(name)\n",
    "\n",
    "# 4번 문제\n",
    "def get_url(name):\n",
    "    url = f'www.{name}.com'\n",
    "    return url\n",
    "\n",
    "website = input('영문 이름을 입력하세요 > ')\n",
    "url = get_url(website)\n",
    "print(url)\n",
    "# 제대로 한거였다는거.."
   ]
  },
  {
   "cell_type": "markdown",
   "metadata": {},
   "source": [
    "## 5번 문제"
   ]
  },
  {
   "cell_type": "code",
   "execution_count": 14,
   "metadata": {},
   "outputs": [
    {
     "name": "stdout",
     "output_type": "stream",
     "text": [
      "구구단 시작!\n",
      "4 x 1 = 4\n",
      "4 x 2 = 8\n",
      "4 x 3 = 12\n",
      "4 x 4 = 16\n",
      "4 x 5 = 20\n",
      "4 x 6 = 24\n",
      "4 x 7 = 28\n",
      "4 x 8 = 32\n",
      "4 x 9 = 36\n",
      "결과값 :  4 8 12 16 20 24 28 32 36 "
     ]
    }
   ],
   "source": [
    "# 5번 문제\n",
    "print('구구단 시작!')\n",
    "x = int(input('출력할 단 > '))\n",
    "for i in range(1, 9+1):\n",
    "    result = x * i\n",
    "    print(f'{x} x {i} = {result}')\n",
    "print('결과값 : ', end=' ')\n",
    "for i in range(1, 9+1):\n",
    "    result = x * i\n",
    "    print(result, end=' ')"
   ]
  },
  {
   "cell_type": "code",
   "execution_count": null,
   "metadata": {},
   "outputs": [],
   "source": []
  }
 ],
 "metadata": {
  "kernelspec": {
   "display_name": "Python 3",
   "language": "python",
   "name": "python3"
  },
  "language_info": {
   "codemirror_mode": {
    "name": "ipython",
    "version": 3
   },
   "file_extension": ".py",
   "mimetype": "text/x-python",
   "name": "python",
   "nbconvert_exporter": "python",
   "pygments_lexer": "ipython3",
   "version": "3.11.5"
  }
 },
 "nbformat": 4,
 "nbformat_minor": 2
}
